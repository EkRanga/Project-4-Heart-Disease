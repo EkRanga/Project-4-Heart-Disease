{
 "cells": [
  {
   "cell_type": "markdown",
   "metadata": {},
   "source": [
    "# Instructor Do: Random Forests"
   ]
  },
  {
   "cell_type": "code",
   "execution_count": 1,
   "metadata": {},
   "outputs": [],
   "source": [
    "# Initial imports\n",
    "import pandas as pd\n",
    "from pathlib import Path\n",
    "from sklearn.ensemble import RandomForestClassifier\n",
    "from sklearn.preprocessing import StandardScaler\n",
    "from sklearn.model_selection import train_test_split\n",
    "from sklearn.metrics import confusion_matrix, accuracy_score, classification_report\n",
    "%matplotlib inline\n"
   ]
  },
  {
   "cell_type": "markdown",
   "metadata": {},
   "source": [
    "## Loading and Preprocessing Loans Encoded Data"
   ]
  },
  {
   "cell_type": "code",
   "execution_count": 2,
<<<<<<< HEAD
=======
   "metadata": {},
   "outputs": [
    {
     "name": "stdout",
     "output_type": "stream",
     "text": [
      "+---+---+---------------+---+-----------+------------+-----------+------+---------------+-------------+-----------+-----------------------+--------+-------------+----------+\n",
      "|Age|Sex|Chest pain type| BP|Cholesterol|FBS over 120|EKG results|Max HR|Exercise angina|ST depression|Slope of ST|Number of vessels fluro|Thallium|Heart Disease|Patient ID|\n",
      "+---+---+---------------+---+-----------+------------+-----------+------+---------------+-------------+-----------+-----------------------+--------+-------------+----------+\n",
      "| 70|  1|              4|130|        322|           0|          2|   109|              0|          2.4|          2|                      3|       3|     Presence|     31065|\n",
      "| 67|  0|              3|115|        564|           0|          2|   160|              0|          1.6|          2|                      0|       7|      Absence|     31606|\n",
      "| 57|  1|              2|124|        261|           0|          0|   141|              0|          0.3|          1|                      0|       7|     Presence|     32147|\n",
      "| 64|  1|              4|128|        263|           0|          0|   105|              1|          0.2|          2|                      1|       7|      Absence|     32688|\n",
      "| 74|  0|              2|120|        269|           0|          2|   121|              1|          0.2|          1|                      1|       3|      Absence|     33229|\n",
      "| 65|  1|              4|120|        177|           0|          0|   140|              0|          0.4|          1|                      0|       7|      Absence|     33770|\n",
      "| 56|  1|              3|130|        256|           1|          2|   142|              1|          0.6|          2|                      1|       6|     Presence|     34311|\n",
      "| 59|  1|              4|110|        239|           0|          2|   142|              1|          1.2|          2|                      1|       7|     Presence|     34852|\n",
      "| 60|  1|              4|140|        293|           0|          2|   170|              0|          1.2|          2|                      2|       7|     Presence|     35393|\n",
      "| 63|  0|              4|150|        407|           0|          2|   154|              0|          4.0|          2|                      3|       7|     Presence|     35934|\n",
      "| 59|  1|              4|135|        234|           0|          0|   161|              0|          0.5|          2|                      0|       7|      Absence|     36475|\n",
      "| 53|  1|              4|142|        226|           0|          2|   111|              1|          0.0|          1|                      0|       7|      Absence|     37016|\n",
      "| 44|  1|              3|140|        235|           0|          2|   180|              0|          0.0|          1|                      0|       3|      Absence|     37557|\n",
      "| 61|  1|              1|134|        234|           0|          0|   145|              0|          2.6|          2|                      2|       3|     Presence|     38098|\n",
      "| 57|  0|              4|128|        303|           0|          2|   159|              0|          0.0|          1|                      1|       3|      Absence|     38639|\n",
      "| 71|  0|              4|112|        149|           0|          0|   125|              0|          1.6|          2|                      0|       3|      Absence|     39180|\n",
      "| 46|  1|              4|140|        311|           0|          0|   120|              1|          1.8|          2|                      2|       7|     Presence|     39721|\n",
      "| 53|  1|              4|140|        203|           1|          2|   155|              1|          3.1|          3|                      0|       7|     Presence|     40262|\n",
      "| 64|  1|              1|110|        211|           0|          2|   144|              1|          1.8|          2|                      0|       3|      Absence|     40803|\n",
      "| 40|  1|              1|140|        199|           0|          0|   178|              1|          1.4|          1|                      0|       7|      Absence|     41344|\n",
      "+---+---+---------------+---+-----------+------------+-----------+------+---------------+-------------+-----------+-----------------------+--------+-------------+----------+\n",
      "only showing top 20 rows\n",
      "\n"
     ]
    }
   ],
   "source": [
    "# Import findspark and initialise. \n",
    "import findspark\n",
    "findspark.init()\n",
    "\n",
    "# Start Spark session\n",
    "from pyspark.sql import SparkSession\n",
    "from pyspark.sql.functions import when\n",
    "spark = SparkSession.builder.appName(\"sparkFunctions\").getOrCreate()\n",
    "\n",
    "# Read in data from S3 Buckets\n",
    "from pyspark import SparkFiles\n",
    "\n",
    "df = spark.read.load(\"Heart Disease - FOR ML.csv\", format=\"csv\", inferSchema=\"true\", header=\"true\")\n",
    "\n",
    "df.show()"
   ]
  },
  {
   "cell_type": "code",
   "execution_count": 3,
   "metadata": {},
   "outputs": [
    {
     "data": {
      "text/html": [
       "<div>\n",
       "<style scoped>\n",
       "    .dataframe tbody tr th:only-of-type {\n",
       "        vertical-align: middle;\n",
       "    }\n",
       "\n",
       "    .dataframe tbody tr th {\n",
       "        vertical-align: top;\n",
       "    }\n",
       "\n",
       "    .dataframe thead th {\n",
       "        text-align: right;\n",
       "    }\n",
       "</style>\n",
       "<table border=\"1\" class=\"dataframe\">\n",
       "  <thead>\n",
       "    <tr style=\"text-align: right;\">\n",
       "      <th></th>\n",
       "      <th>Age</th>\n",
       "      <th>Sex</th>\n",
       "      <th>Chest pain type</th>\n",
       "      <th>BP</th>\n",
       "      <th>Cholesterol</th>\n",
       "      <th>FBS over 120</th>\n",
       "      <th>EKG results</th>\n",
       "      <th>Max HR</th>\n",
       "      <th>Exercise angina</th>\n",
       "      <th>ST depression</th>\n",
       "      <th>Slope of ST</th>\n",
       "      <th>Number of vessels fluro</th>\n",
       "      <th>Thallium</th>\n",
       "      <th>Heart Disease</th>\n",
       "      <th>Patient ID</th>\n",
       "    </tr>\n",
       "  </thead>\n",
       "  <tbody>\n",
       "    <tr>\n",
       "      <th>0</th>\n",
       "      <td>70</td>\n",
       "      <td>1</td>\n",
       "      <td>4</td>\n",
       "      <td>130</td>\n",
       "      <td>322</td>\n",
       "      <td>0</td>\n",
       "      <td>2</td>\n",
       "      <td>109</td>\n",
       "      <td>0</td>\n",
       "      <td>2.4</td>\n",
       "      <td>2</td>\n",
       "      <td>3</td>\n",
       "      <td>3</td>\n",
       "      <td>Presence</td>\n",
       "      <td>31065</td>\n",
       "    </tr>\n",
       "    <tr>\n",
       "      <th>1</th>\n",
       "      <td>67</td>\n",
       "      <td>0</td>\n",
       "      <td>3</td>\n",
       "      <td>115</td>\n",
       "      <td>564</td>\n",
       "      <td>0</td>\n",
       "      <td>2</td>\n",
       "      <td>160</td>\n",
       "      <td>0</td>\n",
       "      <td>1.6</td>\n",
       "      <td>2</td>\n",
       "      <td>0</td>\n",
       "      <td>7</td>\n",
       "      <td>Absence</td>\n",
       "      <td>31606</td>\n",
       "    </tr>\n",
       "    <tr>\n",
       "      <th>2</th>\n",
       "      <td>57</td>\n",
       "      <td>1</td>\n",
       "      <td>2</td>\n",
       "      <td>124</td>\n",
       "      <td>261</td>\n",
       "      <td>0</td>\n",
       "      <td>0</td>\n",
       "      <td>141</td>\n",
       "      <td>0</td>\n",
       "      <td>0.3</td>\n",
       "      <td>1</td>\n",
       "      <td>0</td>\n",
       "      <td>7</td>\n",
       "      <td>Presence</td>\n",
       "      <td>32147</td>\n",
       "    </tr>\n",
       "    <tr>\n",
       "      <th>3</th>\n",
       "      <td>64</td>\n",
       "      <td>1</td>\n",
       "      <td>4</td>\n",
       "      <td>128</td>\n",
       "      <td>263</td>\n",
       "      <td>0</td>\n",
       "      <td>0</td>\n",
       "      <td>105</td>\n",
       "      <td>1</td>\n",
       "      <td>0.2</td>\n",
       "      <td>2</td>\n",
       "      <td>1</td>\n",
       "      <td>7</td>\n",
       "      <td>Absence</td>\n",
       "      <td>32688</td>\n",
       "    </tr>\n",
       "    <tr>\n",
       "      <th>4</th>\n",
       "      <td>74</td>\n",
       "      <td>0</td>\n",
       "      <td>2</td>\n",
       "      <td>120</td>\n",
       "      <td>269</td>\n",
       "      <td>0</td>\n",
       "      <td>2</td>\n",
       "      <td>121</td>\n",
       "      <td>1</td>\n",
       "      <td>0.2</td>\n",
       "      <td>1</td>\n",
       "      <td>1</td>\n",
       "      <td>3</td>\n",
       "      <td>Absence</td>\n",
       "      <td>33229</td>\n",
       "    </tr>\n",
       "  </tbody>\n",
       "</table>\n",
       "</div>"
      ],
      "text/plain": [
       "   Age  Sex  Chest pain type   BP  Cholesterol  FBS over 120  EKG results  \\\n",
       "0   70    1                4  130          322             0            2   \n",
       "1   67    0                3  115          564             0            2   \n",
       "2   57    1                2  124          261             0            0   \n",
       "3   64    1                4  128          263             0            0   \n",
       "4   74    0                2  120          269             0            2   \n",
       "\n",
       "   Max HR  Exercise angina  ST depression  Slope of ST  \\\n",
       "0     109                0            2.4            2   \n",
       "1     160                0            1.6            2   \n",
       "2     141                0            0.3            1   \n",
       "3     105                1            0.2            2   \n",
       "4     121                1            0.2            1   \n",
       "\n",
       "   Number of vessels fluro  Thallium Heart Disease  Patient ID  \n",
       "0                        3         3      Presence       31065  \n",
       "1                        0         7       Absence       31606  \n",
       "2                        0         7      Presence       32147  \n",
       "3                        1         7       Absence       32688  \n",
       "4                        1         3       Absence       33229  "
      ]
     },
     "execution_count": 3,
     "metadata": {},
     "output_type": "execute_result"
    }
   ],
   "source": [
    "df_rf = df.toPandas()\n",
    "\n",
    "df_rf.head()"
   ]
  },
  {
   "cell_type": "code",
   "execution_count": 4,
>>>>>>> f4fc062bf46a3133f2c2736800e5391f973e3ed1
   "metadata": {},
   "outputs": [
    {
     "data": {
      "text/html": [
       "<div>\n",
       "<style scoped>\n",
       "    .dataframe tbody tr th:only-of-type {\n",
       "        vertical-align: middle;\n",
       "    }\n",
       "\n",
       "    .dataframe tbody tr th {\n",
       "        vertical-align: top;\n",
       "    }\n",
       "\n",
       "    .dataframe thead th {\n",
       "        text-align: right;\n",
       "    }\n",
       "</style>\n",
       "<table border=\"1\" class=\"dataframe\">\n",
       "  <thead>\n",
       "    <tr style=\"text-align: right;\">\n",
       "      <th></th>\n",
       "      <th>Age</th>\n",
       "      <th>Sex</th>\n",
       "      <th>Chest pain type</th>\n",
       "      <th>BP</th>\n",
       "      <th>Cholesterol</th>\n",
       "      <th>FBS over 120</th>\n",
       "      <th>EKG results</th>\n",
       "      <th>Max HR</th>\n",
       "      <th>Exercise angina</th>\n",
       "      <th>ST depression</th>\n",
       "      <th>Slope of ST</th>\n",
       "      <th>Number of vessels fluro</th>\n",
       "      <th>Thallium</th>\n",
       "      <th>Heart Disease</th>\n",
       "      <th>Patient ID</th>\n",
       "    </tr>\n",
       "  </thead>\n",
       "  <tbody>\n",
       "    <tr>\n",
       "      <th>0</th>\n",
       "      <td>70</td>\n",
       "      <td>1</td>\n",
       "      <td>4</td>\n",
       "      <td>130</td>\n",
       "      <td>322</td>\n",
       "      <td>0</td>\n",
       "      <td>2</td>\n",
       "      <td>109</td>\n",
       "      <td>0</td>\n",
       "      <td>2.4</td>\n",
       "      <td>2</td>\n",
       "      <td>3</td>\n",
       "      <td>3</td>\n",
       "      <td>1</td>\n",
       "      <td>31065</td>\n",
       "    </tr>\n",
       "    <tr>\n",
       "      <th>1</th>\n",
       "      <td>67</td>\n",
       "      <td>0</td>\n",
       "      <td>3</td>\n",
       "      <td>115</td>\n",
       "      <td>564</td>\n",
       "      <td>0</td>\n",
       "      <td>2</td>\n",
       "      <td>160</td>\n",
       "      <td>0</td>\n",
       "      <td>1.6</td>\n",
       "      <td>2</td>\n",
       "      <td>0</td>\n",
       "      <td>7</td>\n",
       "      <td>0</td>\n",
       "      <td>31606</td>\n",
       "    </tr>\n",
       "    <tr>\n",
       "      <th>2</th>\n",
       "      <td>57</td>\n",
       "      <td>1</td>\n",
       "      <td>2</td>\n",
       "      <td>124</td>\n",
       "      <td>261</td>\n",
       "      <td>0</td>\n",
       "      <td>0</td>\n",
       "      <td>141</td>\n",
       "      <td>0</td>\n",
       "      <td>0.3</td>\n",
       "      <td>1</td>\n",
       "      <td>0</td>\n",
       "      <td>7</td>\n",
       "      <td>1</td>\n",
       "      <td>32147</td>\n",
       "    </tr>\n",
       "    <tr>\n",
       "      <th>3</th>\n",
       "      <td>64</td>\n",
       "      <td>1</td>\n",
       "      <td>4</td>\n",
       "      <td>128</td>\n",
       "      <td>263</td>\n",
       "      <td>0</td>\n",
       "      <td>0</td>\n",
       "      <td>105</td>\n",
       "      <td>1</td>\n",
       "      <td>0.2</td>\n",
       "      <td>2</td>\n",
       "      <td>1</td>\n",
       "      <td>7</td>\n",
       "      <td>0</td>\n",
       "      <td>32688</td>\n",
       "    </tr>\n",
       "    <tr>\n",
       "      <th>4</th>\n",
       "      <td>74</td>\n",
       "      <td>0</td>\n",
       "      <td>2</td>\n",
       "      <td>120</td>\n",
       "      <td>269</td>\n",
       "      <td>0</td>\n",
       "      <td>2</td>\n",
       "      <td>121</td>\n",
       "      <td>1</td>\n",
       "      <td>0.2</td>\n",
       "      <td>1</td>\n",
       "      <td>1</td>\n",
       "      <td>3</td>\n",
       "      <td>0</td>\n",
       "      <td>33229</td>\n",
       "    </tr>\n",
       "  </tbody>\n",
       "</table>\n",
       "</div>"
      ],
      "text/plain": [
       "   Age  Sex  Chest pain type   BP  Cholesterol  FBS over 120  EKG results  \\\n",
       "0   70    1                4  130          322             0            2   \n",
       "1   67    0                3  115          564             0            2   \n",
       "2   57    1                2  124          261             0            0   \n",
       "3   64    1                4  128          263             0            0   \n",
       "4   74    0                2  120          269             0            2   \n",
       "\n",
       "   Max HR  Exercise angina  ST depression  Slope of ST  \\\n",
       "0     109                0            2.4            2   \n",
       "1     160                0            1.6            2   \n",
       "2     141                0            0.3            1   \n",
       "3     105                1            0.2            2   \n",
       "4     121                1            0.2            1   \n",
       "\n",
       "   Number of vessels fluro  Thallium  Heart Disease  Patient ID  \n",
       "0                        3         3              1       31065  \n",
       "1                        0         7              0       31606  \n",
       "2                        0         7              1       32147  \n",
       "3                        1         7              0       32688  \n",
       "4                        1         3              0       33229  "
      ]
     },
<<<<<<< HEAD
     "execution_count": 2,
=======
     "execution_count": 4,
>>>>>>> f4fc062bf46a3133f2c2736800e5391f973e3ed1
     "metadata": {},
     "output_type": "execute_result"
    }
   ],
   "source": [
    "# Replace \"Absence\" with 0 and \"Presence\" with 1 in the \"Heart Disease\" column\n",
    "df_rf['Heart Disease'] = df_rf['Heart Disease'].replace({'Absence': 0, 'Presence': 1})\n",
    "\n",
    "df_rf.head()"
   ]
  },
  {
   "cell_type": "code",
   "execution_count": 17,
   "metadata": {},
   "outputs": [
    {
     "data": {
      "text/html": [
       "<div>\n",
       "<style scoped>\n",
       "    .dataframe tbody tr th:only-of-type {\n",
       "        vertical-align: middle;\n",
       "    }\n",
       "\n",
       "    .dataframe tbody tr th {\n",
       "        vertical-align: top;\n",
       "    }\n",
       "\n",
       "    .dataframe thead th {\n",
       "        text-align: right;\n",
       "    }\n",
       "</style>\n",
       "<table border=\"1\" class=\"dataframe\">\n",
       "  <thead>\n",
       "    <tr style=\"text-align: right;\">\n",
       "      <th></th>\n",
       "      <th>Age</th>\n",
       "      <th>Sex</th>\n",
       "      <th>Chest pain type</th>\n",
       "      <th>BP</th>\n",
       "      <th>Cholesterol</th>\n",
       "      <th>FBS over 120</th>\n",
       "      <th>EKG results</th>\n",
       "      <th>Max HR</th>\n",
       "      <th>Exercise angina</th>\n",
       "      <th>ST depression</th>\n",
       "      <th>Slope of ST</th>\n",
       "      <th>Number of vessels fluro</th>\n",
       "      <th>Thallium</th>\n",
       "    </tr>\n",
       "  </thead>\n",
       "  <tbody>\n",
       "    <tr>\n",
       "      <th>0</th>\n",
       "      <td>70</td>\n",
       "      <td>1</td>\n",
       "      <td>4</td>\n",
       "      <td>130</td>\n",
       "      <td>322</td>\n",
       "      <td>0</td>\n",
       "      <td>2</td>\n",
       "      <td>109</td>\n",
       "      <td>0</td>\n",
       "      <td>2.4</td>\n",
       "      <td>2</td>\n",
       "      <td>3</td>\n",
       "      <td>3</td>\n",
       "    </tr>\n",
       "    <tr>\n",
       "      <th>1</th>\n",
       "      <td>67</td>\n",
       "      <td>0</td>\n",
       "      <td>3</td>\n",
       "      <td>115</td>\n",
       "      <td>564</td>\n",
       "      <td>0</td>\n",
       "      <td>2</td>\n",
       "      <td>160</td>\n",
       "      <td>0</td>\n",
       "      <td>1.6</td>\n",
       "      <td>2</td>\n",
       "      <td>0</td>\n",
       "      <td>7</td>\n",
       "    </tr>\n",
       "    <tr>\n",
       "      <th>2</th>\n",
       "      <td>57</td>\n",
       "      <td>1</td>\n",
       "      <td>2</td>\n",
       "      <td>124</td>\n",
       "      <td>261</td>\n",
       "      <td>0</td>\n",
       "      <td>0</td>\n",
       "      <td>141</td>\n",
       "      <td>0</td>\n",
       "      <td>0.3</td>\n",
       "      <td>1</td>\n",
       "      <td>0</td>\n",
       "      <td>7</td>\n",
       "    </tr>\n",
       "    <tr>\n",
       "      <th>3</th>\n",
       "      <td>64</td>\n",
       "      <td>1</td>\n",
       "      <td>4</td>\n",
       "      <td>128</td>\n",
       "      <td>263</td>\n",
       "      <td>0</td>\n",
       "      <td>0</td>\n",
       "      <td>105</td>\n",
       "      <td>1</td>\n",
       "      <td>0.2</td>\n",
       "      <td>2</td>\n",
       "      <td>1</td>\n",
       "      <td>7</td>\n",
       "    </tr>\n",
       "    <tr>\n",
       "      <th>4</th>\n",
       "      <td>74</td>\n",
       "      <td>0</td>\n",
       "      <td>2</td>\n",
       "      <td>120</td>\n",
       "      <td>269</td>\n",
       "      <td>0</td>\n",
       "      <td>2</td>\n",
       "      <td>121</td>\n",
       "      <td>1</td>\n",
       "      <td>0.2</td>\n",
       "      <td>1</td>\n",
       "      <td>1</td>\n",
       "      <td>3</td>\n",
       "    </tr>\n",
       "  </tbody>\n",
       "</table>\n",
       "</div>"
      ],
      "text/plain": [
       "   Age  Sex  Chest pain type   BP  Cholesterol  FBS over 120  EKG results  \\\n",
       "0   70    1                4  130          322             0            2   \n",
       "1   67    0                3  115          564             0            2   \n",
       "2   57    1                2  124          261             0            0   \n",
       "3   64    1                4  128          263             0            0   \n",
       "4   74    0                2  120          269             0            2   \n",
       "\n",
       "   Max HR  Exercise angina  ST depression  Slope of ST  \\\n",
       "0     109                0            2.4            2   \n",
       "1     160                0            1.6            2   \n",
       "2     141                0            0.3            1   \n",
       "3     105                1            0.2            2   \n",
       "4     121                1            0.2            1   \n",
       "\n",
       "   Number of vessels fluro  Thallium  \n",
       "0                        3         3  \n",
       "1                        0         7  \n",
       "2                        0         7  \n",
       "3                        1         7  \n",
       "4                        1         3  "
      ]
     },
     "execution_count": 17,
     "metadata": {},
     "output_type": "execute_result"
    }
   ],
   "source": [
    "# Define features set\n",
    "X = df_rf.copy()\n",
    "X.drop(\"Patient ID\", axis=1, inplace=True)\n",
    "X.drop(\"Heart Disease\", axis=1, inplace=True)\n",
    "X.head()"
   ]
  },
  {
   "cell_type": "code",
   "execution_count": 18,
   "metadata": {},
   "outputs": [
    {
     "data": {
      "text/plain": [
       "array([1, 0, 1, 0, 0], dtype=int64)"
      ]
     },
     "execution_count": 18,
     "metadata": {},
     "output_type": "execute_result"
    }
   ],
   "source": [
    "# Define target vector\n",
    "y = df_rf[\"Heart Disease\"].ravel()\n",
    "y[:5]"
   ]
  },
  {
   "cell_type": "code",
   "execution_count": 19,
   "metadata": {},
   "outputs": [],
   "source": [
    "# Splitting into Train and Test sets\n",
    "X_train, X_test, y_train, y_test = train_test_split(X, y, random_state=78)"
   ]
  },
  {
   "cell_type": "code",
   "execution_count": 20,
   "metadata": {},
   "outputs": [],
   "source": [
    "# Creating StandardScaler instance\n",
    "scaler = StandardScaler()"
   ]
  },
  {
   "cell_type": "code",
   "execution_count": 21,
   "metadata": {},
   "outputs": [],
   "source": [
    "# Fitting Standard Scaller\n",
    "X_scaler = scaler.fit(X_train)"
   ]
  },
  {
   "cell_type": "code",
   "execution_count": 22,
   "metadata": {},
   "outputs": [],
   "source": [
    "# Scaling data\n",
    "X_train_scaled = X_scaler.transform(X_train)\n",
    "X_test_scaled = X_scaler.transform(X_test)"
   ]
  },
  {
   "cell_type": "markdown",
   "metadata": {},
   "source": [
    "## Fitting the Random Forest Model"
   ]
  },
  {
   "cell_type": "code",
   "execution_count": 23,
   "metadata": {},
   "outputs": [],
   "source": [
    "# Create a random forest classifier\n",
    "rf_model = RandomForestClassifier(n_estimators=500, random_state=78)"
   ]
  },
  {
   "cell_type": "code",
   "execution_count": 24,
   "metadata": {},
   "outputs": [],
   "source": [
    "# Fitting the model\n",
    "rf_model = rf_model.fit(X_train_scaled, y_train)"
   ]
  },
  {
   "cell_type": "markdown",
   "metadata": {},
   "source": [
    "## Making Predictions Using the Random Forest Model"
   ]
  },
  {
   "cell_type": "code",
   "execution_count": 25,
   "metadata": {},
   "outputs": [],
   "source": [
    "# Making predictions using the testing data\n",
    "predictions = rf_model.predict(X_test_scaled)"
   ]
  },
  {
   "cell_type": "markdown",
   "metadata": {},
   "source": [
    "## Model Evaluation"
   ]
  },
  {
   "cell_type": "code",
   "execution_count": 26,
   "metadata": {},
   "outputs": [],
   "source": [
    "# Calculating the confusion matrix\n",
    "cm = confusion_matrix(y_test, predictions)\n",
    "cm_df = pd.DataFrame(\n",
    "    cm, index=[\"Actual 0\", \"Actual 1\"], columns=[\"Predicted 0\", \"Predicted 1\"]\n",
    ")\n",
    "\n",
    "# Calculating the accuracy score\n",
    "acc_score = accuracy_score(y_test, predictions)"
   ]
  },
  {
   "cell_type": "code",
   "execution_count": 27,
   "metadata": {},
   "outputs": [
    {
     "name": "stdout",
     "output_type": "stream",
     "text": [
      "Confusion Matrix\n"
     ]
    },
    {
     "data": {
      "text/html": [
       "<div>\n",
       "<style scoped>\n",
       "    .dataframe tbody tr th:only-of-type {\n",
       "        vertical-align: middle;\n",
       "    }\n",
       "\n",
       "    .dataframe tbody tr th {\n",
       "        vertical-align: top;\n",
       "    }\n",
       "\n",
       "    .dataframe thead th {\n",
       "        text-align: right;\n",
       "    }\n",
       "</style>\n",
       "<table border=\"1\" class=\"dataframe\">\n",
       "  <thead>\n",
       "    <tr style=\"text-align: right;\">\n",
       "      <th></th>\n",
       "      <th>Predicted 0</th>\n",
       "      <th>Predicted 1</th>\n",
       "    </tr>\n",
       "  </thead>\n",
       "  <tbody>\n",
       "    <tr>\n",
       "      <th>Actual 0</th>\n",
       "      <td>28</td>\n",
       "      <td>7</td>\n",
       "    </tr>\n",
       "    <tr>\n",
       "      <th>Actual 1</th>\n",
       "      <td>4</td>\n",
       "      <td>29</td>\n",
       "    </tr>\n",
       "  </tbody>\n",
       "</table>\n",
       "</div>"
      ],
      "text/plain": [
       "          Predicted 0  Predicted 1\n",
       "Actual 0           28            7\n",
       "Actual 1            4           29"
      ]
     },
     "metadata": {},
     "output_type": "display_data"
    },
    {
     "name": "stdout",
     "output_type": "stream",
     "text": [
      "Accuracy Score : 0.8382352941176471\n",
      "Classification Report\n",
      "              precision    recall  f1-score   support\n",
      "\n",
      "           0       0.88      0.80      0.84        35\n",
      "           1       0.81      0.88      0.84        33\n",
      "\n",
      "    accuracy                           0.84        68\n",
      "   macro avg       0.84      0.84      0.84        68\n",
      "weighted avg       0.84      0.84      0.84        68\n",
      "\n"
     ]
    }
   ],
   "source": [
    "# Displaying results\n",
    "print(\"Confusion Matrix\")\n",
    "display(cm_df)\n",
    "print(f\"Accuracy Score : {acc_score}\")\n",
    "print(\"Classification Report\")\n",
    "print(classification_report(y_test, predictions))"
   ]
  },
  {
   "cell_type": "markdown",
   "metadata": {},
   "source": [
    "## Feature Importance"
   ]
  },
  {
   "cell_type": "code",
   "execution_count": 28,
   "metadata": {},
   "outputs": [
    {
     "data": {
      "text/plain": [
       "[(0.14236628156023562, 'Thallium'),\n",
       " (0.12245194803389724, 'ST depression'),\n",
       " (0.11850286039252746, 'Chest pain type'),\n",
       " (0.11697544230898287, 'Number of vessels fluro'),\n",
       " (0.10628113326118425, 'Max HR'),\n",
       " (0.08508837504417019, 'Cholesterol'),\n",
       " (0.0807386482370889, 'Age'),\n",
       " (0.07981838534456648, 'BP'),\n",
       " (0.04470453495823188, 'Exercise angina'),\n",
       " (0.034999510491166896, 'Sex'),\n",
       " (0.03456478702904044, 'Slope of ST'),\n",
       " (0.024077796790663977, 'EKG results'),\n",
       " (0.009430296548243886, 'FBS over 120')]"
      ]
     },
     "execution_count": 28,
     "metadata": {},
     "output_type": "execute_result"
    }
   ],
   "source": [
    "# Random Forests in sklearn will automatically calculate feature importance\n",
    "importances = rf_model.feature_importances_\n",
    "# We can sort the features by their importance\n",
    "sorted(zip(rf_model.feature_importances_, X.columns), reverse=True)"
   ]
  },
  {
   "cell_type": "code",
   "execution_count": 30,
   "metadata": {},
   "outputs": [
    {
     "data": {
      "text/plain": [
       "<Axes: title={'center': 'Features Importances'}, ylabel='1'>"
      ]
     },
     "execution_count": 30,
     "metadata": {},
     "output_type": "execute_result"
    },
    {
     "data": {
      "image/png": "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",
      "text/plain": [
       "<Figure size 640x480 with 1 Axes>"
      ]
     },
     "metadata": {},
     "output_type": "display_data"
    }
   ],
   "source": [
    "# Visualize the features by importance\n",
    "importances_df = pd.DataFrame(sorted(zip(rf_model.feature_importances_, X.columns), reverse=True))\n",
    "importances_df.set_index(importances_df[1], inplace=True)\n",
    "importances_df.drop(columns=1, inplace=True)\n",
    "importances_df.rename(columns={0: 'Feature Importances'}, inplace=True)\n",
    "importances_sorted = importances_df.sort_values(by='Feature Importances')\n",
    "importances_sorted.plot(kind='barh', color='cyan', title= 'Features Importances', legend=False)"
   ]
  },
  {
   "cell_type": "code",
   "execution_count": null,
   "metadata": {},
   "outputs": [],
   "source": []
  }
 ],
 "metadata": {
  "file_extension": ".py",
  "kernelspec": {
   "display_name": "Python 3 (ipykernel)",
   "language": "python",
   "name": "python3"
  },
  "language_info": {
   "codemirror_mode": {
    "name": "ipython",
    "version": 3
   },
   "file_extension": ".py",
   "mimetype": "text/x-python",
   "name": "python",
   "nbconvert_exporter": "python",
   "pygments_lexer": "ipython3",
   "version": "3.10.13"
  },
  "mimetype": "text/x-python",
  "name": "python",
  "npconvert_exporter": "python",
  "pygments_lexer": "ipython3",
  "version": 3
 },
 "nbformat": 4,
 "nbformat_minor": 4
}
